{
 "cells": [
  {
   "cell_type": "markdown",
   "id": "5c49b7b0-d0cc-41f1-bd5d-b6eb08f8adb4",
   "metadata": {},
   "source": [
    "<img src=\"http://imgur.com/1ZcRyrc.png\" style=\"float: left; margin: 20px; height: 55px\">\n",
    "\n",
    "# Capstone Project: COVID-19 mRNA Vaccine Degradation Prediction"
   ]
  },
  {
   "cell_type": "markdown",
   "id": "d149cef7-98e0-44ba-b81e-2e879a4060a6",
   "metadata": {},
   "source": [
    "# Part 4"
   ]
  },
  {
   "cell_type": "code",
   "execution_count": 1,
   "id": "9e8374eb-d5a1-4111-af8d-efc315dc3081",
   "metadata": {},
   "outputs": [],
   "source": [
    "import warnings\n",
    "warnings.filterwarnings('ignore')"
   ]
  },
  {
   "cell_type": "code",
   "execution_count": 2,
   "id": "e228ea79-795b-41c4-804f-c090e1976fdf",
   "metadata": {},
   "outputs": [
    {
     "name": "stdout",
     "output_type": "stream",
     "text": [
      "Overwriting streamlit_app.py\n"
     ]
    }
   ],
   "source": [
    "%%writefile streamlit_app.py\n",
    "import streamlit as st\n",
    "import requests\n",
    "import json\n",
    "import pandas as pd\n",
    "import pickle\n",
    "import xgboost as xgb\n",
    "import tensorflow as tf\n",
    "from tensorflow.keras.models import load_model\n",
    "from tensorflow.keras.models import model_from_json\n",
    "\n",
    "# Title of the page\n",
    "st.title(\"COVID-19 mRNA Vaccine Degradation Prediction\")"
   ]
  },
  {
   "cell_type": "code",
   "execution_count": 3,
   "id": "242fa867-e708-4a27-9470-6e064dc31892",
   "metadata": {},
   "outputs": [
    {
     "name": "stdout",
     "output_type": "stream",
     "text": [
      "Appending to streamlit_app.py\n"
     ]
    }
   ],
   "source": [
    "%%writefile -a streamlit_app.py\n",
    "\n",
    "#Loading up the Regression model we created\n",
    "model = xgb.XGBRegressor()\n",
    "model.load_model('./output/model_streamlit.json')\n",
    "\n",
    "#Caching the model for faster loading\n",
    "@st.cache\n",
    "\n",
    "# Define the input\n",
    "def predict(sequence, structure, predicted_loop_type):\n",
    "    if sequence == 'A':\n",
    "        sequence = 3\n",
    "    elif sequence == 'C':\n",
    "        sequence = 4\n",
    "    elif sequence == 'G':\n",
    "        sequence = 5\n",
    "    elif sequence == 'U':\n",
    "        sequence = 6\n",
    "\n",
    "    if structure == '(':\n",
    "        structure = 0\n",
    "    elif structure == ')':\n",
    "        structure = 1\n",
    "    elif structure == '.':\n",
    "        structure = 2\n",
    "    \n",
    "    if predicted_loop_type == 'B':\n",
    "        predicted_loop_type = 7\n",
    "    elif predicted_loop_type == 'E':\n",
    "        predicted_loop_type = 8\n",
    "    elif predicted_loop_type == 'H':\n",
    "        predicted_loop_type = 9\n",
    "    elif predicted_loop_type == 'I':\n",
    "        predicted_loop_type = 10\n",
    "    elif predicted_loop_type == 'M':\n",
    "        predicted_loop_type = 11\n",
    "    elif predicted_loop_type == 'S':\n",
    "        predicted_loop_type = 12\n",
    "    elif predicted_loop_type == 'X':\n",
    "        predicted_loop_type = 13\n",
    "\n",
    "    prediction = model.predict(pd.DataFrame([[sequence, structure, predicted_loop_type]], columns=['sequence', 'structure', 'predicted_loop_type']))\n",
    "    return prediction"
   ]
  },
  {
   "cell_type": "code",
   "execution_count": 4,
   "id": "cd9c662a-75d1-4b05-b065-b42fba9e1341",
   "metadata": {},
   "outputs": [
    {
     "name": "stdout",
     "output_type": "stream",
     "text": [
      "Appending to streamlit_app.py\n"
     ]
    }
   ],
   "source": [
    "%%writefile -a streamlit_app.py\n",
    "\n",
    "st.title('Predictor')\n",
    "st.header('Select input:')\n",
    "sequence = st.selectbox('Base:', ['A', 'C', 'G', 'U'])\n",
    "structure = st.selectbox('Structure Type:', ['(', ')', '.'])\n",
    "st.caption('.: Unpaired (: Paired ): Paired')\n",
    "predicted_loop_type = st.selectbox('Loop Type:', ['B', 'E', 'H', 'I', 'M', 'S', 'X'])\n",
    "st.caption('S: Stem M: Multiloop I: Internal loop B: Bulge H: Hairpin loop E: dangling End X: external loop')\n",
    "\n",
    "if st.button('Predict'):\n",
    "    reactivity = predict(sequence, structure, predicted_loop_type)\n",
    "    st.success(f'The prediction of reactivity is {reactivity[0]:.4f}')"
   ]
  },
  {
   "cell_type": "code",
   "execution_count": null,
   "id": "1a348db8-5b57-4aa1-a637-1132c358a82f",
   "metadata": {},
   "outputs": [],
   "source": []
  },
  {
   "cell_type": "code",
   "execution_count": null,
   "id": "736a8173-e548-40aa-9fa2-e2b28ca0c4b9",
   "metadata": {},
   "outputs": [],
   "source": []
  },
  {
   "cell_type": "code",
   "execution_count": null,
   "id": "01885587-ecbb-4370-a0a5-47b3c12b8167",
   "metadata": {},
   "outputs": [],
   "source": []
  }
 ],
 "metadata": {
  "kernelspec": {
   "display_name": "Python 3 (ipykernel)",
   "language": "python",
   "name": "python3"
  },
  "language_info": {
   "codemirror_mode": {
    "name": "ipython",
    "version": 3
   },
   "file_extension": ".py",
   "mimetype": "text/x-python",
   "name": "python",
   "nbconvert_exporter": "python",
   "pygments_lexer": "ipython3",
   "version": "3.9.12"
  }
 },
 "nbformat": 4,
 "nbformat_minor": 5
}
